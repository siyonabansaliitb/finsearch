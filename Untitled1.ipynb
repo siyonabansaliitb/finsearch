{
 "cells": [
  {
   "cell_type": "code",
   "execution_count": 2,
   "id": "96dcc02e",
   "metadata": {},
   "outputs": [
    {
     "name": "stdout",
     "output_type": "stream",
     "text": [
      "The Black-Scholes option price is: 4.58\n"
     ]
    }
   ],
   "source": [
    "import math\n",
    "\n",
    "def black_scholes(option_type, S, K, T, r, sigma):\n",
    "    \n",
    "    d1 = (math.log(S / K) + (r + 0.5 * sigma**2) * T) / (sigma * math.sqrt(T))\n",
    "    d2 = d1 - sigma * math.sqrt(T)\n",
    "    \n",
    "    if option_type == 'call':\n",
    "        option_price = S * norm_cdf(d1) - K * math.exp(-r * T) * norm_cdf(d2)\n",
    "    elif option_type == 'put':\n",
    "        option_price = K * math.exp(-r * T) * norm_cdf(-d2) - S * norm_cdf(-d1)\n",
    "    else:\n",
    "        raise ValueError(\"Invalid option type. Use 'call' or 'put'.\")\n",
    "    \n",
    "    return option_price\n",
    "\n",
    "def norm_cdf(x):\n",
    "    return (1.0 + math.erf(x / math.sqrt(2.0))) / 2.0\n",
    "\n",
    "# Example usage\n",
    "option_type = 'call'\n",
    "S = 100   # Current stock price\n",
    "K = 105   # Option strike price\n",
    "T = 0.5   # Time to expiration (in years)\n",
    "r = 0.05  # Risk-free interest rate\n",
    "sigma = 0.2  # Stock volatility\n",
    "\n",
    "option_price = black_scholes(option_type, S, K, T, r, sigma)\n",
    "print(f\"The Black-Scholes option price is: {option_price:.2f}\")\n"
   ]
  },
  {
   "cell_type": "code",
   "execution_count": null,
   "id": "41835143",
   "metadata": {},
   "outputs": [],
   "source": []
  }
 ],
 "metadata": {
  "kernelspec": {
   "display_name": "Python 3 (ipykernel)",
   "language": "python",
   "name": "python3"
  },
  "language_info": {
   "codemirror_mode": {
    "name": "ipython",
    "version": 3
   },
   "file_extension": ".py",
   "mimetype": "text/x-python",
   "name": "python",
   "nbconvert_exporter": "python",
   "pygments_lexer": "ipython3",
   "version": "3.9.7"
  }
 },
 "nbformat": 4,
 "nbformat_minor": 5
}
